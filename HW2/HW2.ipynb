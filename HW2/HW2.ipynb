{
 "cells": [
  {
   "cell_type": "markdown",
   "metadata": {},
   "source": [
    "# Ex\n",
    "### Computer Exercise 1.1\n",
    "- 2\n",
    "- 10\n",
    "- 12\n",
    "\n",
    "### Computer Exercise 1.2\n",
    "- 21\n",
    "- 52\n",
    "\n",
    "### Computer Exercise 1.3\n",
    "- 18\n",
    "- 25\n",
    "- 46\n",
    "\n",
    "### Computer Exercise 1.4\n",
    "- 7\n",
    "- 33\n",
    "- 34\n",
    "\n",
    "# Com Ex\n",
    "### Computer Exercise 1.1\n",
    "- 1\n",
    "- 21\n",
    "\n",
    "### Computer Exercise 1.2\n",
    "- 12\n",
    "- 21\n",
    "- 22\n",
    "\n",
    "### Computer Exercise 1.3\n",
    "- 7\n",
    "\n",
    "### Computer Exercise 1.4\n",
    "- 15"
   ]
  },
  {
   "cell_type": "markdown",
   "metadata": {},
   "source": []
  },
  {
   "cell_type": "markdown",
   "metadata": {},
   "source": []
  }
 ],
 "metadata": {
  "language_info": {
   "name": "python"
  }
 },
 "nbformat": 4,
 "nbformat_minor": 2
}
